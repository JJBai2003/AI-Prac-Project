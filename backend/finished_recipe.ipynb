{
 "cells": [
  {
   "cell_type": "code",
   "execution_count": null,
   "id": "c4e503ab",
   "metadata": {},
   "outputs": [],
   "source": [
    "from transformers import AutoTokenizer, AutoModelForCausalLM\n",
    "\n",
    "model_name = \"distilgpt2\"\n",
    "device = \"cpu\"\n",
    "tokenizer = AutoTokenizer.from_pretrained(model_name)\n",
    "model= AutoModelForCausalLM.from_pretrained(model_name)\n",
    "tokenizer.pad_token = tokenizer.eos_token  "
   ]
  },
  {
   "cell_type": "code",
   "execution_count": 10,
   "id": "698199df",
   "metadata": {},
   "outputs": [],
   "source": [
    "import pandas as pd\n",
    "import ast\n",
    "\n",
    "\n",
    "df = pd.read_csv('sampled_recipes.csv')\n",
    "df.dropna(subset=['name', 'steps', 'ingredients'], inplace=True)\n",
    "\n",
    "\n",
    "df['steps'] = df['steps'].apply(ast.literal_eval)\n",
    "df['ingredients'] = df['ingredients'].apply(ast.literal_eval)\n",
    "\n",
    "\n",
    "def format_example(row):\n",
    "    ingredients = ', '.join(row['ingredients'])\n",
    "    steps = '\\n'.join([f\"{i+1}. {step}\" for i, step in enumerate(row['steps'])])\n",
    "    return f\"Ingredients: {ingredients}\\nRecipe Name: {row['name']}\\nSteps:\\n{steps}\"\n",
    "\n",
    "df['text'] = df.apply(format_example, axis=1)\n",
    "\n",
    "\n",
    "\n"
   ]
  },
  {
   "cell_type": "code",
   "execution_count": null,
   "id": "eb7737cd",
   "metadata": {},
   "outputs": [],
   "source": [
    "from datasets import Dataset\n",
    "\n",
    "\n",
    "def map_dataset(examples):\n",
    "     return tokenizer(\n",
    "        examples[\"text\"],\n",
    "\n",
    "        truncation=True,\n",
    "\n",
    "        # max_length=512\n",
    "    )\n",
    "\n",
    "\n",
    "dataset = Dataset.from_pandas(df[['text']])\n",
    "dataset = dataset.map(map_dataset, batched=True, batch_size=8)\n",
    "\n",
    "dataset = dataset.train_test_split(test_size=0.1)\n"
   ]
  },
  {
   "cell_type": "code",
   "execution_count": null,
   "id": "5081f032",
   "metadata": {},
   "outputs": [],
   "source": [
    "# dataset"
   ]
  },
  {
   "cell_type": "code",
   "execution_count": null,
   "id": "048ed617",
   "metadata": {},
   "outputs": [],
   "source": [
    "from transformers import DataCollatorForLanguageModeling\n",
    "\n",
    "data_collator = DataCollatorForLanguageModeling(\n",
    "    tokenizer=tokenizer, mlm=False\n",
    ")\n"
   ]
  },
  {
   "cell_type": "code",
   "execution_count": null,
   "id": "d172b9ef",
   "metadata": {},
   "outputs": [],
   "source": [
    "from transformers import AutoModelForCausalLM, TrainingArguments, Trainer\n",
    "\n",
    "model = AutoModelForCausalLM.from_pretrained(model_name)\n",
    "\n",
    "training_args = TrainingArguments(\n",
    "    output_dir=\"./submission\",\n",
    "    learning_rate=2e-5,\n",
    "    logging_steps=100,\n",
    "    num_train_epochs=3,\n",
    "    weight_decay=0.01,\n",
    "    no_cuda=True, \n",
    "\n",
    " \n",
    ")\n",
    "\n",
    "trainer = Trainer(\n",
    "    model=model,\n",
    "    train_dataset=dataset[\"train\"],\n",
    "    args=training_args,\n",
    "    data_collator=data_collator,\n",
    "    eval_dataset=dataset[\"test\"]\n",
    "\n",
    "\n",
    ")\n"
   ]
  },
  {
   "cell_type": "code",
   "execution_count": null,
   "id": "c3f00858",
   "metadata": {},
   "outputs": [],
   "source": [
    "trainer.train()\n"
   ]
  },
  {
   "cell_type": "code",
   "execution_count": null,
   "id": "c2741919",
   "metadata": {},
   "outputs": [
    {
     "name": "stdout",
     "output_type": "stream",
     "text": [
      "Ingredients: chicken, salt, pepper\n",
      "Recipe Name: turkey casserole\n",
      "Steps:\n",
      "1. preheat oven to 350f\n",
      "2. in a large bowl , combine chicken , salt , pepper , and pepper and combine well\n",
      "3. add chicken and salt and cook for about 5 minutes\n",
      "4. remove chicken from heat and stir in salt\n",
      "5. stir well and serve with a side of chicken\n",
      "6. enjoy !\n",
      "7. you can also use any of the ingredients you like ! you may also like: bacon , bacon and bacon\n",
      "8. if you prefer , you might also enjoy: browned chicken with salt or pepper or brown chicken on top of bacon or bacon on bottom of a plate\n",
      "9. make sure to add the bacon to the plate and bake for 10 minutes or until the chicken is golden brown\n",
      "10. serve immediately !\n"
     ]
    }
   ],
   "source": [
    "from transformers import GPT2Tokenizer, GPT2LMHeadModel\n",
    "import torch\n",
    "\n",
    "model_path = './submission/checkpoint-675'\n",
    "tokenizer = GPT2Tokenizer.from_pretrained(model_path)\n",
    "tokenizer.pad_token = tokenizer.eos_token\n",
    "model = GPT2LMHeadModel.from_pretrained(model_path)\n",
    "model.eval()\n",
    "\n",
    "device = torch.device(\"cuda\" if torch.cuda.is_available() else \"cpu\")\n",
    "model.to(device)\n",
    "\n",
    "ingredients_list = [\"chicken\", \"salt\", \"pepper\"]\n",
    "prompt = f\"Ingredients: {', '.join(ingredients_list)}\\nRecipe Name:\"\n",
    "\n",
    "inputs = tokenizer(prompt, return_tensors=\"pt\").to(device)\n",
    "\n",
    "output = model.generate(\n",
    "    inputs.input_ids,\n",
    "        max_length=500,\n",
    "    num_return_sequences=1,\n",
    "    no_repeat_ngram_size=2,\n",
    "\n",
    "  eos_token_id=tokenizer.eos_token_id,\n",
    "    pad_token_id=tokenizer.eos_token_id \n",
    ")\n",
    "\n",
    "generated_text = tokenizer.batch_decode(output, skip_special_tokens=True)[0]\n",
    "print(generated_text)\n"
   ]
  },
  {
   "cell_type": "code",
   "execution_count": null,
   "id": "dfa7f6dc",
   "metadata": {},
   "outputs": [],
   "source": []
  }
 ],
 "metadata": {
  "kernelspec": {
   "display_name": "env2",
   "language": "python",
   "name": "python3"
  },
  "language_info": {
   "codemirror_mode": {
    "name": "ipython",
    "version": 3
   },
   "file_extension": ".py",
   "mimetype": "text/x-python",
   "name": "python",
   "nbconvert_exporter": "python",
   "pygments_lexer": "ipython3",
   "version": "3.11.4"
  }
 },
 "nbformat": 4,
 "nbformat_minor": 5
}
